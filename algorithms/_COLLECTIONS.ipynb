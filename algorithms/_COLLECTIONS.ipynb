{
 "cells": [
  {
   "cell_type": "markdown",
   "id": "7aa10b56",
   "metadata": {},
   "source": [
    "### Array"
   ]
  },
  {
   "cell_type": "code",
   "execution_count": 5,
   "id": "1c788f1c",
   "metadata": {},
   "outputs": [
    {
     "name": "stdout",
     "output_type": "stream",
     "text": [
      "[1, 4, 9, 16, 25]\n",
      "[1, 4, 9, 16, 25]\n"
     ]
    }
   ],
   "source": [
    "numbers = [1, 2, 3, 4, 5]\n",
    "\n",
    "squared_numbers = [x**2 for x in numbers]\n",
    "print(squared_numbers)\n",
    "squared_numbers = list(map(lambda x: x**2, numbers))\n",
    "print(squared_numbers)"
   ]
  },
  {
   "cell_type": "code",
   "execution_count": 6,
   "id": "6aa628fa",
   "metadata": {},
   "outputs": [
    {
     "name": "stdout",
     "output_type": "stream",
     "text": [
      "[1, 10, 2, 3, 4]\n"
     ]
    }
   ],
   "source": [
    "numbers = [1, 2, 3, 4, 5]\n",
    "numbers.append(6)     # add to end\n",
    "numbers.insert(1, 10) # add at index 1\n",
    "\n",
    "numbers.pop()      # removes last\n",
    "numbers.remove(5) # removes value 99\n",
    "\n",
    "print(numbers)"
   ]
  },
  {
   "cell_type": "code",
   "execution_count": null,
   "id": "dbaf3934",
   "metadata": {},
   "outputs": [],
   "source": [
    "numbers = [5, 2, 9, 1, 5, 6]\n",
    "\n",
    "## Reverse an Array\n",
    "\n",
    "## Sort an Array\n",
    "\n"
   ]
  }
 ],
 "metadata": {
  "kernelspec": {
   "display_name": ".langchain",
   "language": "python",
   "name": "python3"
  },
  "language_info": {
   "codemirror_mode": {
    "name": "ipython",
    "version": 3
   },
   "file_extension": ".py",
   "mimetype": "text/x-python",
   "name": "python",
   "nbconvert_exporter": "python",
   "pygments_lexer": "ipython3",
   "version": "3.11.11"
  }
 },
 "nbformat": 4,
 "nbformat_minor": 5
}
