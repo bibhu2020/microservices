{
 "cells": [
  {
   "cell_type": "markdown",
   "metadata": {},
   "source": [
    "### OOPS Classes and Objects\n"
   ]
  },
  {
   "cell_type": "code",
   "execution_count": 13,
   "metadata": {},
   "outputs": [],
   "source": [
    "# dummy class\n",
    "class Student:\n",
    "    def __new__(cls, *args, **kwargs):\n",
    "        print(\"Inside __new__ method\")\n",
    "        instance = super().__new__(cls)  # Create a new instance\n",
    "        return instance\n",
    "\n",
    "    ## Constructor\n",
    "    def __init__(self, name, age):  # Fixed the typo from __int__ to __init__\n",
    "        print(\"Inside __init__ method\")\n",
    "        self.name = name\n",
    "        self.age = age\n",
    "\n",
    "    def print(self):\n",
    "        print(f\"Age of {self.name} is {self.age}\")"
   ]
  },
  {
   "cell_type": "code",
   "execution_count": null,
   "metadata": {},
   "outputs": [],
   "source": [
    "# __new__ is useful in defining singleton class\n",
    "\n",
    "class Singleton:\n",
    "    _instance = None  # Class attribute to store the instance\n",
    "\n",
    "    def __new__(cls):\n",
    "        if cls._instance is None:\n",
    "            print(\"Creating new instance\")\n",
    "            cls._instance = super().__new__(cls)  # Create the instance only once\n",
    "        return cls._instance\n",
    "\n",
    "obj1 = Singleton()\n",
    "obj2 = Singleton()\n",
    "\n",
    "print(obj1 is obj2)  # Output: True (both refer to the same instance)\n"
   ]
  },
  {
   "cell_type": "code",
   "execution_count": null,
   "metadata": {},
   "outputs": [],
   "source": [
    "\n",
    "## Prints all public methods and attributes in the class\n",
    "dir(Student)"
   ]
  },
  {
   "cell_type": "code",
   "execution_count": null,
   "metadata": {},
   "outputs": [],
   "source": [
    "# Creating an instance\n",
    "student = Student(\"Alice\", 20)  # This will work correctly\n",
    "student.print()\n"
   ]
  },
  {
   "cell_type": "markdown",
   "metadata": {},
   "source": [
    "#### Inheritance in Python"
   ]
  },
  {
   "cell_type": "code",
   "execution_count": null,
   "metadata": {},
   "outputs": [],
   "source": [
    "class Car:\n",
    "    def __init__(self, windows, doors, engineType):\n",
    "        self.windows=windows\n",
    "        self.doors=doors\n",
    "        self.engineType=engineType\n",
    "\n",
    "    def drive(self):\n",
    "        print(f\"The person will drive the {self.engineType} car\")\n",
    "\n",
    "# Single Inheritance\n",
    "class Tesla(Car):\n",
    "    def __init__(self, windows, doors, engineType, is_selfdriving):\n",
    "        super().__init__(windows, doors, engineType)\n",
    "        self.is_selfdriving = is_selfdriving\n",
    "\n",
    "    def selfdriving(self):\n",
    "        print(f\"Tesla supports self driving: {self.is_selfdriving}\")\n",
    "\n",
    "tesla1=Tesla(4,5,\"electric\",True)\n",
    "tesla1.drive()\n",
    "tesla1.selfdriving()\n"
   ]
  },
  {
   "cell_type": "code",
   "execution_count": null,
   "metadata": {},
   "outputs": [],
   "source": [
    "# Multiple Inheritance\n",
    "class Animal:\n",
    "    def __init__(self, name):\n",
    "        self.name=name\n",
    "    \n",
    "    def speak(self):\n",
    "        print('Subclass must implement this method')\n",
    "\n",
    "class Pet:\n",
    "    def __init__(self, owner):\n",
    "        self.owner = owner\n",
    "\n",
    "class Dog(Animal, Pet):\n",
    "    def __init__(self, name, owner):\n",
    "        Animal.__init__(self, name)\n",
    "        Pet.__init__(self,owner)\n",
    "\n",
    "    def speak(self):\n",
    "        return f\"{self.name} say woof.\"\n",
    "    \n",
    "\n",
    "##Create instance\n",
    "dog=Dog(\"Buddy\", \"Krish\")\n",
    "print(dog.speak())"
   ]
  },
  {
   "cell_type": "markdown",
   "metadata": {},
   "source": [
    "#### Polymorphism (multiple form)"
   ]
  },
  {
   "cell_type": "markdown",
   "metadata": {},
   "source": [
    "##### Polymorphism Using Method Overriding"
   ]
  },
  {
   "cell_type": "code",
   "execution_count": null,
   "metadata": {},
   "outputs": [],
   "source": [
    "### Method overriding\n",
    "### allows a child class to provide a specific implementation to an existing method that is already defined in its parent class.\n",
    "class Animal:\n",
    "    def __init__(self, name):\n",
    "        self.name=name\n",
    "    \n",
    "    def speak(self):\n",
    "        print('Sound of the Animal')\n",
    "\n",
    "class Pet:\n",
    "    def __init__(self, owner):\n",
    "        self.owner = owner\n",
    "\n",
    "class Dog(Animal, Pet):\n",
    "    def __init__(self, name, owner):\n",
    "        Animal.__init__(self, name)\n",
    "        Pet.__init__(self,owner)\n",
    "\n",
    "    def speak(self):\n",
    "        return f\"{self.name} say woof!.\"\n",
    "    \n",
    "class Cat(Animal, Pet):\n",
    "    def __init__(self, name, owner):\n",
    "        Animal.__init__(self, name)\n",
    "        Pet.__init__(self,owner)\n",
    "\n",
    "    def speak(self):\n",
    "        return f\"{self.name} say meow!.\"\n",
    "    \n",
    "def animal_speak(animal):\n",
    "    print(animal.speak())\n",
    "\n",
    "obj1=Dog(\"buddy\", \"krish\")\n",
    "animal_speak(obj1)\n",
    "obj1=Cat(\"tiger\", \"josh\")\n",
    "animal_speak(obj1)"
   ]
  },
  {
   "cell_type": "code",
   "execution_count": null,
   "metadata": {},
   "outputs": [],
   "source": [
    "### Polymorphism with Functions and Methods\n",
    "class Shape:\n",
    "    def area(self):\n",
    "        return \"The area of the figure\"\n",
    "    \n",
    "class Rectangle(Shape):\n",
    "    def __init__(self, width, height):\n",
    "        self.height = height\n",
    "        self.width = width\n",
    "\n",
    "    def area(self):\n",
    "        return self.width * self.height\n",
    "    \n",
    "class Circle(Shape):\n",
    "    def __init__(self, radius):\n",
    "        self.radius = radius\n",
    "    \n",
    "    def area(self):\n",
    "        return 3.14 * self.radius\n",
    "    \n",
    "### Function that demonstrates polymerphism\n",
    "def print_area(shape: Shape):\n",
    "    print(f\"the area is {shape.area()}\")\n",
    "\n",
    "\n",
    "rectangle = Rectangle(4,8)\n",
    "circle = Circle(5)\n",
    "\n",
    "print_area(rectangle)\n",
    "print_area(circle)"
   ]
  },
  {
   "cell_type": "markdown",
   "metadata": {},
   "source": [
    "##### Polymorphism Using Abstract Base Class (ABC package)"
   ]
  },
  {
   "cell_type": "code",
   "execution_count": null,
   "metadata": {},
   "outputs": [],
   "source": [
    "### Abstract Base Class (ABC) are used to define common methods for a group of related objects.\n",
    "### They can enforce that derived classes must implement methods, promoting consistency across different implementations.\n",
    "\n",
    "### Abstract Class also uses method overriding. But here it enforces you to override\n",
    "\n",
    "from abc import ABC, abstractmethod\n",
    "\n",
    "## Define an abstract class\n",
    "class Vehicle(ABC):\n",
    "    @abstractmethod\n",
    "    def start_engine(self):\n",
    "        pass\n",
    "\n",
    "class Car(Vehicle):\n",
    "    def start_engine(self):\n",
    "        #return super().start_engine()\n",
    "        return \"Car engine started.\"\n",
    "\n",
    "class Motorcycle(Vehicle):\n",
    "    def start_engine(self):\n",
    "        #return super().start_engine()\n",
    "        return \"Motorcycle engine started.\"\n",
    "    \n",
    "def start_vehicle(vehicle: Vehicle):\n",
    "    print(vehicle.start_engine())\n",
    "    \n",
    "### create objects\n",
    "car = Car()\n",
    "motorcycle = Motorcycle()\n",
    "\n",
    "start_vehicle(motorcycle)"
   ]
  },
  {
   "cell_type": "markdown",
   "metadata": {},
   "source": [
    "#### Encapsulation and Abstraction"
   ]
  },
  {
   "cell_type": "code",
   "execution_count": 7,
   "metadata": {},
   "outputs": [],
   "source": [
    "## Encapsulation and Abstraction are 2 fundamental principles of OOPs that helps in designing robust, maintainable, and resuable code.\n",
    "## Encapsulation involves building data and methods that operate on the data within a single unit, \n",
    "## while Abstraction involves hiding complext implementation details and exposing only that is necessary."
   ]
  },
  {
   "cell_type": "code",
   "execution_count": null,
   "metadata": {},
   "outputs": [],
   "source": [
    "## Encapsulation\n",
    "\n",
    "class Person:\n",
    "    def __init__(self, name, age):\n",
    "        self.name = name #public variable\n",
    "        self.age = age #public variable\n",
    "\n",
    "person1=Person(\"krish\", 34)\n",
    "print(person1.name)\n",
    "\n",
    "dir(person1)"
   ]
  },
  {
   "cell_type": "code",
   "execution_count": null,
   "metadata": {},
   "outputs": [],
   "source": [
    "## double underscore as prefix to member variable, makes it private.\n",
    "\n",
    "class Person:\n",
    "    def __init__(self, name, age, gender):\n",
    "        self.name = name #public variable\n",
    "        self._age = age #protected variable (visible in child class)\n",
    "        self.__gender = gender #private variable (not visible outside the class)\n",
    "\n",
    "person1=Person(\"krish\", 34, \"M\")\n",
    "\n",
    "dir(person1) #shows gender as in the member listing, but not age and name."
   ]
  },
  {
   "cell_type": "code",
   "execution_count": 27,
   "metadata": {},
   "outputs": [
    {
     "name": "stdout",
     "output_type": "stream",
     "text": [
      "Krish\n",
      "34\n"
     ]
    }
   ],
   "source": [
    "class Person:\n",
    "    def __init__(self, name, age, gender):\n",
    "        self.name = name #public variable\n",
    "        self._age = age #protected variable (visible in child class)\n",
    "        self.__gender = gender #private variable (not visible outside the class)\n",
    "\n",
    "class Employee(Person):\n",
    "    def __init__(self, name, age, gender):\n",
    "        super().__init__(name, age, gender)\n",
    "\n",
    "employee = Employee(\"Krish\", 34, \"M\")\n",
    "print(employee.name)\n",
    "print(employee._age)\n",
    "#print(employee.__gender)"
   ]
  },
  {
   "cell_type": "code",
   "execution_count": 28,
   "metadata": {},
   "outputs": [],
   "source": [
    "class Person:\n",
    "    def __init__(self, name, age, gender):\n",
    "        self.__name = name #private variable\n",
    "        self.__age = age #private variable\n",
    "        self.__gender = gender #private variable\n",
    "\n",
    "    def get_name(self):\n",
    "        return self.__name\n",
    "    \n",
    "    def set_name(self,name):\n",
    "        self.__name = name\n",
    "\n",
    "    def get_age(self):\n",
    "        return self.__age\n",
    "    \n",
    "    def set_age(self,age):\n",
    "        self.__age = age\n",
    "\n",
    "    def get_gender(self):\n",
    "        return self.__gender\n",
    "    \n",
    "    def set_gender(self,gender):\n",
    "        self.__gender = gender\n",
    "    \n",
    "class Employee(Person):\n",
    "    def __init__(self, name, age, gender):\n",
    "        super().__init__(name, age, gender)"
   ]
  },
  {
   "cell_type": "markdown",
   "metadata": {},
   "source": [
    "#### Abstraction"
   ]
  },
  {
   "cell_type": "code",
   "execution_count": null,
   "metadata": {},
   "outputs": [],
   "source": [
    "from abc import ABC, abstractmethod\n",
    "\n",
    "### Abstract BASE Class\n",
    "## Define an abstract class\n",
    "class Vehicle(ABC):\n",
    "    def drive(self):\n",
    "        print(\"The vechivle is used for driving.\")\n",
    "\n",
    "    @abstractmethod\n",
    "    def start_engine(self):\n",
    "        pass\n",
    "\n",
    "class Car(Vehicle):\n",
    "    def start_engine(self):\n",
    "        #return super().start_engine()\n",
    "        return \"Car engine started.\"\n",
    "\n",
    "class Motorcycle(Vehicle):\n",
    "    def start_engine(self):\n",
    "        #return super().start_engine()\n",
    "        return \"Motorcycle engine started.\"\n",
    "    \n",
    "def start_vehicle(vehicle: Vehicle):\n",
    "    print(vehicle.start_engine())\n",
    "    \n",
    "### create objects\n",
    "car = Car()\n",
    "motorcycle = Motorcycle()\n",
    "\n",
    "start_vehicle(motorcycle)"
   ]
  },
  {
   "cell_type": "markdown",
   "metadata": {},
   "source": [
    "#### Magic Methods"
   ]
  },
  {
   "cell_type": "markdown",
   "metadata": {},
   "source": [
    "**Magic Methods in python also known dunder method (double underscore method.)**\n",
    "```\n",
    "- __init__: initialize a new instance of a class.\n",
    "- __str__: returns string representation of an object.\n",
    "- __repr__: returns an official string representation of an object\n",
    "- __len__: returns the length of object\n",
    "- __getitem__: gets an item from a container\n",
    "- __setitem__: sets an item in a container.\n",
    "```"
   ]
  },
  {
   "cell_type": "code",
   "execution_count": 33,
   "metadata": {},
   "outputs": [
    {
     "name": "stdout",
     "output_type": "stream",
     "text": [
      "krish is 34 years old\n",
      "krish is 34 years old\n",
      "Person(name=krish, age=34)\n"
     ]
    }
   ],
   "source": [
    "## Overriding the Magic Methods\n",
    "class Person:\n",
    "    def __init__(self, name, age):\n",
    "        self.age = age\n",
    "        self.name = name\n",
    "\n",
    "    def __str__(self):\n",
    "        return f\"{self.name} is {self.age} years old\"\n",
    "    \n",
    "    def __repr__(self):\n",
    "        return f\"Person(name={self.name}, age={self.age})\"\n",
    "\n",
    "person = Person(\"krish\", 34)\n",
    "print(person)\n",
    "print(str(person))\n",
    "print(repr(person))"
   ]
  },
  {
   "cell_type": "markdown",
   "metadata": {},
   "source": [
    "#### Operator Overloading"
   ]
  },
  {
   "cell_type": "markdown",
   "metadata": {},
   "source": [
    "```\n",
    "- __add__(self, other)\n",
    "- __sub__(self, other)\n",
    "- __mul__(self, other)\n",
    "- __eq__(self, other)\n",
    "- __lt__(self, other)\n",
    "```"
   ]
  },
  {
   "cell_type": "code",
   "execution_count": 45,
   "metadata": {},
   "outputs": [
    {
     "name": "stdout",
     "output_type": "stream",
     "text": [
      "Vector(12, 8)\n",
      "Vector(-4, 2)\n",
      "Vector(32, 12)\n",
      "False\n"
     ]
    }
   ],
   "source": [
    "class Vector:\n",
    "    def __init__(self, x,y):\n",
    "        self.x=x\n",
    "        self.y=y\n",
    "\n",
    "    def __add__(self, other):\n",
    "        return Vector(self.x+other.x, self.y+other.y)\n",
    "    \n",
    "    def __sub__(self, other):\n",
    "        return Vector(self.x-other.x, self.y-other.y)\n",
    "    \n",
    "    def __mul__(self, other):\n",
    "        return Vector(self.x * other.x, self.x * other.y)\n",
    "    \n",
    "    def __eq__(self, other):\n",
    "        return self.x == other.x and self.y == other.y\n",
    "    \n",
    "    def __repr__(self):\n",
    "        return f\"Vector({self.x}, {self.y})\"\n",
    "    \n",
    "    def print(self):\n",
    "        print(f\"my co-ordinates are {self.x}, {self.y}\")\n",
    "\n",
    "\n",
    "v1=Vector(4,5)\n",
    "v2=Vector(8,3)\n",
    "\n",
    "print(v1+v2)\n",
    "print(v1-v2)\n",
    "print(v1*v2)\n",
    "print(v1==v2)\n"
   ]
  }
 ],
 "metadata": {
  "kernelspec": {
   "display_name": ".autogen",
   "language": "python",
   "name": "python3"
  },
  "language_info": {
   "codemirror_mode": {
    "name": "ipython",
    "version": 3
   },
   "file_extension": ".py",
   "mimetype": "text/x-python",
   "name": "python",
   "nbconvert_exporter": "python",
   "pygments_lexer": "ipython3",
   "version": "3.11.4"
  }
 },
 "nbformat": 4,
 "nbformat_minor": 2
}
