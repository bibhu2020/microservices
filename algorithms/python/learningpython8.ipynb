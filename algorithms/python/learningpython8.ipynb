{
 "cells": [
  {
   "cell_type": "markdown",
   "metadata": {},
   "source": [
    "#### Learning Streamlit\n",
    "Streamlit is an opensource web framework to create web applications for Machine Learning & Data Science Projects using Python scripts."
   ]
  },
  {
   "cell_type": "code",
   "execution_count": 8,
   "metadata": {},
   "outputs": [
    {
     "name": "stdout",
     "output_type": "stream",
     "text": [
      "Requirement already satisfied: ipykernel in /home/azureuser/.local/lib/python3.11/site-packages (from -r requirements.txt (line 1)) (6.29.5)\n",
      "Requirement already satisfied: streamlit in /home/azureuser/miniconda3/envs/.autogen/lib/python3.11/site-packages (from -r requirements.txt (line 2)) (1.41.1)\n",
      "Requirement already satisfied: numpy in /home/azureuser/miniconda3/envs/.autogen/lib/python3.11/site-packages (from -r requirements.txt (line 3)) (1.26.4)\n",
      "Requirement already satisfied: pandas in /home/azureuser/miniconda3/envs/.autogen/lib/python3.11/site-packages (from -r requirements.txt (line 4)) (1.5.3)\n",
      "Requirement already satisfied: matplotlib in /home/azureuser/miniconda3/envs/.autogen/lib/python3.11/site-packages (from -r requirements.txt (line 5)) (3.10.0)\n",
      "Requirement already satisfied: seaborn in /home/azureuser/miniconda3/envs/.autogen/lib/python3.11/site-packages (from -r requirements.txt (line 6)) (0.13.2)\n",
      "Requirement already satisfied: flask in /home/azureuser/miniconda3/envs/.autogen/lib/python3.11/site-packages (from -r requirements.txt (line 7)) (3.1.0)\n",
      "Requirement already satisfied: memory_profiler in /home/azureuser/miniconda3/envs/.autogen/lib/python3.11/site-packages (from -r requirements.txt (line 8)) (0.61.0)\n",
      "Requirement already satisfied: scikit-learn in /home/azureuser/miniconda3/envs/.autogen/lib/python3.11/site-packages (from -r requirements.txt (line 9)) (1.5.2)\n",
      "Requirement already satisfied: comm>=0.1.1 in /home/azureuser/.local/lib/python3.11/site-packages (from ipykernel->-r requirements.txt (line 1)) (0.2.2)\n",
      "Requirement already satisfied: debugpy>=1.6.5 in /home/azureuser/.local/lib/python3.11/site-packages (from ipykernel->-r requirements.txt (line 1)) (1.8.11)\n",
      "Requirement already satisfied: ipython>=7.23.1 in /home/azureuser/miniconda3/envs/.autogen/lib/python3.11/site-packages (from ipykernel->-r requirements.txt (line 1)) (8.31.0)\n",
      "Requirement already satisfied: jupyter-client>=6.1.12 in /home/azureuser/.local/lib/python3.11/site-packages (from ipykernel->-r requirements.txt (line 1)) (8.6.3)\n",
      "Requirement already satisfied: jupyter-core!=5.0.*,>=4.12 in /home/azureuser/.local/lib/python3.11/site-packages (from ipykernel->-r requirements.txt (line 1)) (5.7.2)\n",
      "Requirement already satisfied: matplotlib-inline>=0.1 in /home/azureuser/miniconda3/envs/.autogen/lib/python3.11/site-packages (from ipykernel->-r requirements.txt (line 1)) (0.1.7)\n",
      "Requirement already satisfied: nest-asyncio in /home/azureuser/.local/lib/python3.11/site-packages (from ipykernel->-r requirements.txt (line 1)) (1.6.0)\n",
      "Requirement already satisfied: packaging in /home/azureuser/miniconda3/envs/.autogen/lib/python3.11/site-packages (from ipykernel->-r requirements.txt (line 1)) (24.2)\n",
      "Requirement already satisfied: psutil in /home/azureuser/miniconda3/envs/.autogen/lib/python3.11/site-packages (from ipykernel->-r requirements.txt (line 1)) (6.0.0)\n",
      "Requirement already satisfied: pyzmq>=24 in /home/azureuser/.local/lib/python3.11/site-packages (from ipykernel->-r requirements.txt (line 1)) (26.2.0)\n",
      "Requirement already satisfied: tornado>=6.1 in /home/azureuser/.local/lib/python3.11/site-packages (from ipykernel->-r requirements.txt (line 1)) (6.4.2)\n",
      "Requirement already satisfied: traitlets>=5.4.0 in /home/azureuser/miniconda3/envs/.autogen/lib/python3.11/site-packages (from ipykernel->-r requirements.txt (line 1)) (5.14.3)\n",
      "Requirement already satisfied: altair<6,>=4.0 in /home/azureuser/miniconda3/envs/.autogen/lib/python3.11/site-packages (from streamlit->-r requirements.txt (line 2)) (5.5.0)\n",
      "Requirement already satisfied: blinker<2,>=1.0.0 in /home/azureuser/miniconda3/envs/.autogen/lib/python3.11/site-packages (from streamlit->-r requirements.txt (line 2)) (1.9.0)\n",
      "Requirement already satisfied: cachetools<6,>=4.0 in /home/azureuser/miniconda3/envs/.autogen/lib/python3.11/site-packages (from streamlit->-r requirements.txt (line 2)) (5.5.0)\n",
      "Requirement already satisfied: click<9,>=7.0 in /home/azureuser/miniconda3/envs/.autogen/lib/python3.11/site-packages (from streamlit->-r requirements.txt (line 2)) (8.1.8)\n",
      "Requirement already satisfied: pillow<12,>=7.1.0 in /home/azureuser/miniconda3/envs/.autogen/lib/python3.11/site-packages (from streamlit->-r requirements.txt (line 2)) (11.1.0)\n",
      "Requirement already satisfied: protobuf<6,>=3.20 in /home/azureuser/miniconda3/envs/.autogen/lib/python3.11/site-packages (from streamlit->-r requirements.txt (line 2)) (5.29.2)\n",
      "Requirement already satisfied: pyarrow>=7.0 in /home/azureuser/miniconda3/envs/.autogen/lib/python3.11/site-packages (from streamlit->-r requirements.txt (line 2)) (19.0.0)\n",
      "Requirement already satisfied: requests<3,>=2.27 in /home/azureuser/miniconda3/envs/.autogen/lib/python3.11/site-packages (from streamlit->-r requirements.txt (line 2)) (2.32.3)\n",
      "Requirement already satisfied: rich<14,>=10.14.0 in /home/azureuser/miniconda3/envs/.autogen/lib/python3.11/site-packages (from streamlit->-r requirements.txt (line 2)) (13.9.4)\n",
      "Requirement already satisfied: tenacity<10,>=8.1.0 in /home/azureuser/miniconda3/envs/.autogen/lib/python3.11/site-packages (from streamlit->-r requirements.txt (line 2)) (9.0.0)\n",
      "Requirement already satisfied: toml<2,>=0.10.1 in /home/azureuser/miniconda3/envs/.autogen/lib/python3.11/site-packages (from streamlit->-r requirements.txt (line 2)) (0.10.2)\n",
      "Requirement already satisfied: typing-extensions<5,>=4.3.0 in /home/azureuser/miniconda3/envs/.autogen/lib/python3.11/site-packages (from streamlit->-r requirements.txt (line 2)) (4.12.2)\n",
      "Requirement already satisfied: watchdog<7,>=2.1.5 in /home/azureuser/miniconda3/envs/.autogen/lib/python3.11/site-packages (from streamlit->-r requirements.txt (line 2)) (6.0.0)\n",
      "Requirement already satisfied: gitpython!=3.1.19,<4,>=3.0.7 in /home/azureuser/miniconda3/envs/.autogen/lib/python3.11/site-packages (from streamlit->-r requirements.txt (line 2)) (3.1.44)\n",
      "Requirement already satisfied: pydeck<1,>=0.8.0b4 in /home/azureuser/miniconda3/envs/.autogen/lib/python3.11/site-packages (from streamlit->-r requirements.txt (line 2)) (0.9.1)\n",
      "Requirement already satisfied: python-dateutil>=2.8.1 in /home/azureuser/miniconda3/envs/.autogen/lib/python3.11/site-packages (from pandas->-r requirements.txt (line 4)) (2.9.0.post0)\n",
      "Requirement already satisfied: pytz>=2020.1 in /home/azureuser/miniconda3/envs/.autogen/lib/python3.11/site-packages (from pandas->-r requirements.txt (line 4)) (2024.1)\n",
      "Requirement already satisfied: contourpy>=1.0.1 in /home/azureuser/miniconda3/envs/.autogen/lib/python3.11/site-packages (from matplotlib->-r requirements.txt (line 5)) (1.3.1)\n",
      "Requirement already satisfied: cycler>=0.10 in /home/azureuser/miniconda3/envs/.autogen/lib/python3.11/site-packages (from matplotlib->-r requirements.txt (line 5)) (0.12.1)\n",
      "Requirement already satisfied: fonttools>=4.22.0 in /home/azureuser/miniconda3/envs/.autogen/lib/python3.11/site-packages (from matplotlib->-r requirements.txt (line 5)) (4.55.3)\n",
      "Requirement already satisfied: kiwisolver>=1.3.1 in /home/azureuser/miniconda3/envs/.autogen/lib/python3.11/site-packages (from matplotlib->-r requirements.txt (line 5)) (1.4.8)\n",
      "Requirement already satisfied: pyparsing>=2.3.1 in /home/azureuser/miniconda3/envs/.autogen/lib/python3.11/site-packages (from matplotlib->-r requirements.txt (line 5)) (3.2.1)\n",
      "Requirement already satisfied: Werkzeug>=3.1 in /home/azureuser/miniconda3/envs/.autogen/lib/python3.11/site-packages (from flask->-r requirements.txt (line 7)) (3.1.3)\n",
      "Requirement already satisfied: Jinja2>=3.1.2 in /home/azureuser/miniconda3/envs/.autogen/lib/python3.11/site-packages (from flask->-r requirements.txt (line 7)) (3.1.5)\n",
      "Requirement already satisfied: itsdangerous>=2.2 in /home/azureuser/miniconda3/envs/.autogen/lib/python3.11/site-packages (from flask->-r requirements.txt (line 7)) (2.2.0)\n",
      "Requirement already satisfied: scipy>=1.6.0 in /home/azureuser/miniconda3/envs/.autogen/lib/python3.11/site-packages (from scikit-learn->-r requirements.txt (line 9)) (1.14.1)\n",
      "Requirement already satisfied: joblib>=1.2.0 in /home/azureuser/miniconda3/envs/.autogen/lib/python3.11/site-packages (from scikit-learn->-r requirements.txt (line 9)) (1.4.2)\n",
      "Requirement already satisfied: threadpoolctl>=3.1.0 in /home/azureuser/miniconda3/envs/.autogen/lib/python3.11/site-packages (from scikit-learn->-r requirements.txt (line 9)) (3.5.0)\n",
      "Requirement already satisfied: jsonschema>=3.0 in /home/azureuser/miniconda3/envs/.autogen/lib/python3.11/site-packages (from altair<6,>=4.0->streamlit->-r requirements.txt (line 2)) (4.23.0)\n",
      "Requirement already satisfied: narwhals>=1.14.2 in /home/azureuser/miniconda3/envs/.autogen/lib/python3.11/site-packages (from altair<6,>=4.0->streamlit->-r requirements.txt (line 2)) (1.23.0)\n",
      "Requirement already satisfied: gitdb<5,>=4.0.1 in /home/azureuser/miniconda3/envs/.autogen/lib/python3.11/site-packages (from gitpython!=3.1.19,<4,>=3.0.7->streamlit->-r requirements.txt (line 2)) (4.0.12)\n",
      "Requirement already satisfied: decorator in /home/azureuser/miniconda3/envs/.autogen/lib/python3.11/site-packages (from ipython>=7.23.1->ipykernel->-r requirements.txt (line 1)) (5.1.1)\n",
      "Requirement already satisfied: jedi>=0.16 in /home/azureuser/miniconda3/envs/.autogen/lib/python3.11/site-packages (from ipython>=7.23.1->ipykernel->-r requirements.txt (line 1)) (0.19.2)\n",
      "Requirement already satisfied: pexpect>4.3 in /home/azureuser/miniconda3/envs/.autogen/lib/python3.11/site-packages (from ipython>=7.23.1->ipykernel->-r requirements.txt (line 1)) (4.9.0)\n",
      "Requirement already satisfied: prompt_toolkit<3.1.0,>=3.0.41 in /home/azureuser/miniconda3/envs/.autogen/lib/python3.11/site-packages (from ipython>=7.23.1->ipykernel->-r requirements.txt (line 1)) (3.0.48)\n",
      "Requirement already satisfied: pygments>=2.4.0 in /home/azureuser/miniconda3/envs/.autogen/lib/python3.11/site-packages (from ipython>=7.23.1->ipykernel->-r requirements.txt (line 1)) (2.19.1)\n",
      "Requirement already satisfied: stack_data in /home/azureuser/miniconda3/envs/.autogen/lib/python3.11/site-packages (from ipython>=7.23.1->ipykernel->-r requirements.txt (line 1)) (0.6.3)\n",
      "Requirement already satisfied: MarkupSafe>=2.0 in /home/azureuser/miniconda3/envs/.autogen/lib/python3.11/site-packages (from Jinja2>=3.1.2->flask->-r requirements.txt (line 7)) (2.1.5)\n",
      "Requirement already satisfied: platformdirs>=2.5 in /home/azureuser/miniconda3/envs/.autogen/lib/python3.11/site-packages (from jupyter-core!=5.0.*,>=4.12->ipykernel->-r requirements.txt (line 1)) (4.3.6)\n",
      "Requirement already satisfied: six>=1.5 in /home/azureuser/miniconda3/envs/.autogen/lib/python3.11/site-packages (from python-dateutil>=2.8.1->pandas->-r requirements.txt (line 4)) (1.16.0)\n",
      "Requirement already satisfied: charset-normalizer<4,>=2 in /home/azureuser/miniconda3/envs/.autogen/lib/python3.11/site-packages (from requests<3,>=2.27->streamlit->-r requirements.txt (line 2)) (3.4.1)\n",
      "Requirement already satisfied: idna<4,>=2.5 in /home/azureuser/miniconda3/envs/.autogen/lib/python3.11/site-packages (from requests<3,>=2.27->streamlit->-r requirements.txt (line 2)) (3.10)\n",
      "Requirement already satisfied: urllib3<3,>=1.21.1 in /home/azureuser/miniconda3/envs/.autogen/lib/python3.11/site-packages (from requests<3,>=2.27->streamlit->-r requirements.txt (line 2)) (2.3.0)\n",
      "Requirement already satisfied: certifi>=2017.4.17 in /home/azureuser/miniconda3/envs/.autogen/lib/python3.11/site-packages (from requests<3,>=2.27->streamlit->-r requirements.txt (line 2)) (2024.12.14)\n",
      "Requirement already satisfied: markdown-it-py>=2.2.0 in /home/azureuser/miniconda3/envs/.autogen/lib/python3.11/site-packages (from rich<14,>=10.14.0->streamlit->-r requirements.txt (line 2)) (3.0.0)\n",
      "Requirement already satisfied: smmap<6,>=3.0.1 in /home/azureuser/miniconda3/envs/.autogen/lib/python3.11/site-packages (from gitdb<5,>=4.0.1->gitpython!=3.1.19,<4,>=3.0.7->streamlit->-r requirements.txt (line 2)) (5.0.2)\n",
      "Requirement already satisfied: parso<0.9.0,>=0.8.4 in /home/azureuser/miniconda3/envs/.autogen/lib/python3.11/site-packages (from jedi>=0.16->ipython>=7.23.1->ipykernel->-r requirements.txt (line 1)) (0.8.4)\n",
      "Requirement already satisfied: attrs>=22.2.0 in /home/azureuser/miniconda3/envs/.autogen/lib/python3.11/site-packages (from jsonschema>=3.0->altair<6,>=4.0->streamlit->-r requirements.txt (line 2)) (24.3.0)\n",
      "Requirement already satisfied: jsonschema-specifications>=2023.03.6 in /home/azureuser/miniconda3/envs/.autogen/lib/python3.11/site-packages (from jsonschema>=3.0->altair<6,>=4.0->streamlit->-r requirements.txt (line 2)) (2024.10.1)\n",
      "Requirement already satisfied: referencing>=0.28.4 in /home/azureuser/miniconda3/envs/.autogen/lib/python3.11/site-packages (from jsonschema>=3.0->altair<6,>=4.0->streamlit->-r requirements.txt (line 2)) (0.36.1)\n",
      "Requirement already satisfied: rpds-py>=0.7.1 in /home/azureuser/miniconda3/envs/.autogen/lib/python3.11/site-packages (from jsonschema>=3.0->altair<6,>=4.0->streamlit->-r requirements.txt (line 2)) (0.22.3)\n",
      "Requirement already satisfied: mdurl~=0.1 in /home/azureuser/miniconda3/envs/.autogen/lib/python3.11/site-packages (from markdown-it-py>=2.2.0->rich<14,>=10.14.0->streamlit->-r requirements.txt (line 2)) (0.1.2)\n",
      "Requirement already satisfied: ptyprocess>=0.5 in /home/azureuser/miniconda3/envs/.autogen/lib/python3.11/site-packages (from pexpect>4.3->ipython>=7.23.1->ipykernel->-r requirements.txt (line 1)) (0.7.0)\n",
      "Requirement already satisfied: wcwidth in /home/azureuser/miniconda3/envs/.autogen/lib/python3.11/site-packages (from prompt_toolkit<3.1.0,>=3.0.41->ipython>=7.23.1->ipykernel->-r requirements.txt (line 1)) (0.2.13)\n",
      "Requirement already satisfied: executing>=1.2.0 in /home/azureuser/miniconda3/envs/.autogen/lib/python3.11/site-packages (from stack_data->ipython>=7.23.1->ipykernel->-r requirements.txt (line 1)) (2.1.0)\n",
      "Requirement already satisfied: asttokens>=2.1.0 in /home/azureuser/miniconda3/envs/.autogen/lib/python3.11/site-packages (from stack_data->ipython>=7.23.1->ipykernel->-r requirements.txt (line 1)) (3.0.0)\n",
      "Requirement already satisfied: pure-eval in /home/azureuser/miniconda3/envs/.autogen/lib/python3.11/site-packages (from stack_data->ipython>=7.23.1->ipykernel->-r requirements.txt (line 1)) (0.2.3)\n"
     ]
    }
   ],
   "source": [
    "## Install required packages\n",
    "!pip install -r requirements.txt"
   ]
  },
  {
   "cell_type": "code",
   "execution_count": null,
   "metadata": {},
   "outputs": [],
   "source": [
    "|"
   ]
  }
 ],
 "metadata": {
  "kernelspec": {
   "display_name": ".autogen",
   "language": "python",
   "name": "python3"
  },
  "language_info": {
   "codemirror_mode": {
    "name": "ipython",
    "version": 3
   },
   "file_extension": ".py",
   "mimetype": "text/x-python",
   "name": "python",
   "nbconvert_exporter": "python",
   "pygments_lexer": "ipython3",
   "version": "3.11.4"
  }
 },
 "nbformat": 4,
 "nbformat_minor": 2
}
