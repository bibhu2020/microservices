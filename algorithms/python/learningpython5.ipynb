{
 "cells": [
  {
   "cell_type": "markdown",
   "metadata": {},
   "source": [
    "#### File Operation with Python"
   ]
  },
  {
   "cell_type": "code",
   "execution_count": 2,
   "metadata": {},
   "outputs": [
    {
     "name": "stdout",
     "output_type": "stream",
     "text": [
      "name,age\n",
      "bibhu,35\n",
      "krish,31\n",
      "\n"
     ]
    }
   ],
   "source": [
    "### Read a Whole File\n",
    "with open(\"example.csv\", \"r\") as file:\n",
    "    content=file.read()\n",
    "    print(content)"
   ]
  },
  {
   "cell_type": "code",
   "execution_count": 5,
   "metadata": {},
   "outputs": [
    {
     "name": "stdout",
     "output_type": "stream",
     "text": [
      "name,age\n",
      "bibhu,35\n",
      "krish,31\n"
     ]
    }
   ],
   "source": [
    "### Read file line by line\n",
    "with open(\"example.csv\", \"r\") as file:\n",
    "    for line in file:\n",
    "        print(line.strip()) #strip() removes newline"
   ]
  },
  {
   "cell_type": "code",
   "execution_count": 7,
   "metadata": {},
   "outputs": [],
   "source": [
    "## Writing a file (overwriting)\n",
    "with open(\"example.csv\", \"w\") as file:\n",
    "    file.write(\"radhe, 65\")"
   ]
  },
  {
   "cell_type": "code",
   "execution_count": 13,
   "metadata": {},
   "outputs": [],
   "source": [
    "## Writing a file (without overwriting)\n",
    "with open(\"example.csv\", \"a\") as file:\n",
    "    file.write(\"\\nBibhu, 43\")"
   ]
  },
  {
   "cell_type": "code",
   "execution_count": 14,
   "metadata": {},
   "outputs": [],
   "source": [
    "# Writing multiple lines\n",
    "lines=[\"radhe, 65\\n\", \"Bibhu, 43\\n\"]\n",
    "with open(\"example.csv\", \"w\") as file:\n",
    "    file.writelines(lines)  "
   ]
  },
  {
   "cell_type": "markdown",
   "metadata": {},
   "source": [
    "#### Working with Directory"
   ]
  },
  {
   "cell_type": "code",
   "execution_count": 20,
   "metadata": {},
   "outputs": [
    {
     "name": "stdout",
     "output_type": "stream",
     "text": [
      "['example.csv', 'learningpython1.ipynb', 'learningpython2.ipynb', 'learningpython3.ipynb', 'learningpython4.ipynb', 'learningpython5.ipynb', 'new_dir', 'packages']\n"
     ]
    }
   ],
   "source": [
    "new_dir=\"new_dir\"\n",
    "\n",
    "import os\n",
    "if not os.path.exists(new_dir):\n",
    "    os.makedirs(new_dir)\n",
    "else:\n",
    "    items=os.listdir(\".\")\n",
    "    print(items)\n",
    "    os.removedirs(new_dir)"
   ]
  },
  {
   "cell_type": "code",
   "execution_count": 22,
   "metadata": {},
   "outputs": [
    {
     "name": "stdout",
     "output_type": "stream",
     "text": [
      "/mnt/c/Users/v-bimishra/workspace/srescripts/pocs/genai/python/folder/file.txt\n"
     ]
    }
   ],
   "source": [
    "### Joining paths\n",
    "dir_name=\"folder\"\n",
    "file_name=\"file.txt\"\n",
    "full_path=os.path.join(os.getcwd(),dir_name, file_name)\n",
    "print(full_path)"
   ]
  }
 ],
 "metadata": {
  "kernelspec": {
   "display_name": ".autogen",
   "language": "python",
   "name": "python3"
  },
  "language_info": {
   "codemirror_mode": {
    "name": "ipython",
    "version": 3
   },
   "file_extension": ".py",
   "mimetype": "text/x-python",
   "name": "python",
   "nbconvert_exporter": "python",
   "pygments_lexer": "ipython3",
   "version": "3.11.4"
  }
 },
 "nbformat": 4,
 "nbformat_minor": 2
}
