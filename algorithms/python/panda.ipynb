{
 "cells": [
  {
   "cell_type": "markdown",
   "metadata": {},
   "source": [
    "### Learning Pandas Package"
   ]
  },
  {
   "cell_type": "code",
   "execution_count": null,
   "metadata": {},
   "outputs": [],
   "source": [
    "import pandas as pd"
   ]
  },
  {
   "cell_type": "code",
   "execution_count": null,
   "metadata": {},
   "outputs": [],
   "source": [
    "import pandas as pd\n",
    "import numpy as np\n",
    "\n",
    "# Set random seed for reproducibility\n",
    "np.random.seed(42)\n",
    "\n",
    "# Create a large DataFrame with 100,000 rows and multiple columns\n",
    "df = pd.DataFrame({\n",
    "    'ID': range(1, 100001),\n",
    "    'Name': [f'Person_{i}' for i in range(1, 100001)],\n",
    "    'Age': np.random.randint(18, 80, 100000),\n",
    "    'Salary': np.random.randint(20000, 150000, 100000),\n",
    "    'Department': np.random.choice(['HR', 'IT', 'Finance', 'Marketing', 'Sales'], 100000),\n",
    "    'Years_of_Experience': np.random.randint(0, 40, 100000),\n",
    "    'Performance_Score': np.random.uniform(1, 5, 100000).round(2)\n",
    "})\n",
    "\n",
    "# Save the DataFrame to a CSV file\n",
    "df.to_csv('large_sample_data.csv', index=False)\n",
    "\n",
    "print(\"Large sample CSV file 'large_sample_data.csv' has been created.\")\n"
   ]
  },
  {
   "cell_type": "code",
   "execution_count": null,
   "metadata": {},
   "outputs": [],
   "source": [
    "df = pd.read_csv(\"large_sample_data.csv\")\n",
    "df"
   ]
  },
  {
   "cell_type": "code",
   "execution_count": null,
   "metadata": {},
   "outputs": [],
   "source": [
    "# Assuming you have a DataFrame called 'df'\n",
    "print(df.head(3))"
   ]
  },
  {
   "cell_type": "code",
   "execution_count": null,
   "metadata": {},
   "outputs": [],
   "source": [
    "df[:3]"
   ]
  },
  {
   "cell_type": "code",
   "execution_count": 12,
   "metadata": {},
   "outputs": [
    {
     "name": "stdout",
     "output_type": "stream",
     "text": [
      "Row 0:\n",
      "  ID: 1\n",
      "  Name: Person_1\n",
      "  Age: 56\n",
      "  Salary: 102100\n",
      "  Department: Marketing\n",
      "  Years_of_Experience: 8\n",
      "  Performance_Score: 4.78\n",
      "Row 1:\n",
      "  ID: 2\n",
      "  Name: Person_2\n",
      "  Age: 69\n",
      "  Salary: 51487\n",
      "  Department: Sales\n",
      "  Years_of_Experience: 32\n",
      "  Performance_Score: 4.36\n",
      "Row 2:\n",
      "  ID: 3\n",
      "  Name: Person_3\n",
      "  Age: 46\n",
      "  Salary: 135048\n",
      "  Department: HR\n",
      "  Years_of_Experience: 32\n",
      "  Performance_Score: 4.83\n"
     ]
    }
   ],
   "source": [
    "for index, row in df[:3].iterrows():\n",
    "    print(f\"Row {index}:\")\n",
    "    for column, value in row.items():\n",
    "        print(f\"  {column}: {value}\")\n"
   ]
  }
 ],
 "metadata": {
  "kernelspec": {
   "display_name": ".langchain",
   "language": "python",
   "name": "python3"
  },
  "language_info": {
   "codemirror_mode": {
    "name": "ipython",
    "version": 3
   },
   "file_extension": ".py",
   "mimetype": "text/x-python",
   "name": "python",
   "nbconvert_exporter": "python",
   "pygments_lexer": "ipython3",
   "version": "3.11.11"
  }
 },
 "nbformat": 4,
 "nbformat_minor": 2
}
