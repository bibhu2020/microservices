{
 "cells": [
  {
   "cell_type": "markdown",
   "metadata": {},
   "source": [
    "#### Learning Functions\n"
   ]
  },
  {
   "cell_type": "code",
   "execution_count": 3,
   "metadata": {},
   "outputs": [
    {
     "name": "stdout",
     "output_type": "stream",
     "text": [
      "hello bibhu !!\n"
     ]
    }
   ],
   "source": [
    "# Function with default parameter\n",
    "def greet (name=\"bibhu\"):\n",
    "    print(f\"hello {name} !!\")\n",
    "\n",
    "greet()\n"
   ]
  },
  {
   "cell_type": "code",
   "execution_count": 10,
   "metadata": {},
   "outputs": [
    {
     "name": "stdout",
     "output_type": "stream",
     "text": [
      "1-2-3-4-5\n",
      "1\n",
      "2\n",
      "3\n",
      "4\n",
      "5\n",
      "num1 - 2\n",
      "num2 - 5\n",
      "num3 - 56\n"
     ]
    }
   ],
   "source": [
    "## Variable length arguments\n",
    "def print_numbers(num1,num2,num3,num4,num5):\n",
    "    print(f\"{num1}-{num2}-{num3}-{num4}-{num5}\")\n",
    "\n",
    "print_numbers(1,2,3,4,5)\n",
    "\n",
    "## Positional Arguments (arguments are sent as list in the sequence it is sent)\n",
    "def print_numbers_2(*args):\n",
    "    for number in args:\n",
    "        print(number)\n",
    "\n",
    "print_numbers_2(1,2,3,4,5)\n",
    "\n",
    "## Keywords Arguments (arguments are sent as a dictionary)\n",
    "def print_numbers_3(**kwargs):\n",
    "    for key, value in kwargs.items():\n",
    "        print(f\"{key} - {value}\")\n",
    "\n",
    "print_numbers_3(num1=2,num2=5,num3=56)\n"
   ]
  },
  {
   "cell_type": "code",
   "execution_count": 13,
   "metadata": {},
   "outputs": [
    {
     "name": "stdout",
     "output_type": "stream",
     "text": [
      "20\n",
      "(20, 5)\n"
     ]
    }
   ],
   "source": [
    "## Function Return\n",
    "def multiply(a,b):\n",
    "    return a*b\n",
    "\n",
    "print(multiply(4,5))\n",
    "\n",
    "## Multi-value return \n",
    "def multiply2(a,b):\n",
    "    return a*b,b\n",
    "\n",
    "print(multiply2(4,5))"
   ]
  },
  {
   "cell_type": "markdown",
   "metadata": {},
   "source": [
    "### Function Examples"
   ]
  },
  {
   "cell_type": "code",
   "execution_count": 21,
   "metadata": {},
   "outputs": [
    {
     "name": "stdout",
     "output_type": "stream",
     "text": [
      "(89.6, 'Farhenhites')\n",
      "(37.77777777777778, 'Celcius')\n"
     ]
    }
   ],
   "source": [
    "def convert_temperature(temp,unit):\n",
    "    if unit.upper() == \"C\":\n",
    "        return (temp*9/5) + 32, \"Farhenhites\"\n",
    "    else: \n",
    "        return (temp-32)*5/9, 'Celcius'\n",
    "\n",
    "print(convert_temperature(32, \"c\"))\n",
    "print(convert_temperature(100, \"F\"))\n"
   ]
  },
  {
   "cell_type": "markdown",
   "metadata": {},
   "source": [
    "#### Lambda Function (Function without a name or Annonymous Function)"
   ]
  },
  {
   "cell_type": "markdown",
   "metadata": {},
   "source": [
    "**Syntax**\n",
    "```python\n",
    "lambda argument: expression\n",
    "```"
   ]
  },
  {
   "cell_type": "code",
   "execution_count": 24,
   "metadata": {},
   "outputs": [
    {
     "name": "stdout",
     "output_type": "stream",
     "text": [
      "9\n",
      "True\n"
     ]
    }
   ],
   "source": [
    "def addition(a,b):\n",
    "    return a+b\n",
    "\n",
    "# lamda version\n",
    "addition2=lambda a,b: a+b\n",
    "\n",
    "print(addition2(4,5))\n",
    "\n",
    "#\n",
    "even1=lambda num:num%2==0\n",
    "print(even1(10))\n"
   ]
  },
  {
   "cell_type": "markdown",
   "metadata": {},
   "source": [
    "#### Map Function (Applies a function to all items in a collection or iterable)"
   ]
  },
  {
   "cell_type": "code",
   "execution_count": 25,
   "metadata": {},
   "outputs": [
    {
     "name": "stdout",
     "output_type": "stream",
     "text": [
      "[1, 4, 9, 16, 25, 36]\n"
     ]
    }
   ],
   "source": [
    "## map() - applies a function to all items in a list or collection\n",
    "numbers=[1,2,3,4,5,6]\n",
    "# def square(number):\n",
    "#     return number**2\n",
    "\n",
    "map1 = map(lambda x: x**2, numbers)\n",
    "lst = list(map1)\n",
    "print(lst)"
   ]
  },
  {
   "cell_type": "code",
   "execution_count": 26,
   "metadata": {},
   "outputs": [
    {
     "name": "stdout",
     "output_type": "stream",
     "text": [
      "[1, 4, 9, 16, 25, 36]\n"
     ]
    }
   ],
   "source": [
    "numbers=[1,2,3,4,5,6]\n",
    "print(list(map(lambda x: x**2, numbers)))"
   ]
  },
  {
   "cell_type": "code",
   "execution_count": 30,
   "metadata": {},
   "outputs": [
    {
     "name": "stdout",
     "output_type": "stream",
     "text": [
      "[7, 9, 11, 13, 15, 17]\n"
     ]
    }
   ],
   "source": [
    "## Map Multiple Iterables \n",
    "numbers1=[1,2,3,4,5,6]\n",
    "numbers2=[6,7,8,9,10,11]\n",
    "\n",
    "added_numbers=map(lambda x,y:x+y, numbers1, numbers2)\n",
    "print(list(added_numbers))\n"
   ]
  },
  {
   "cell_type": "code",
   "execution_count": 31,
   "metadata": {},
   "outputs": [
    {
     "name": "stdout",
     "output_type": "stream",
     "text": [
      "['banana', 'orange', 'watermelon']\n",
      "['BANANA', 'ORANGE', 'WATERMELON']\n"
     ]
    }
   ],
   "source": [
    "## Map using inbuilt function instead of lambda\n",
    "fruits=[\"banana\",\"orange\",\"watermelon\"]\n",
    "print(fruits)\n",
    "print(list(map(str.upper,fruits)))"
   ]
  },
  {
   "cell_type": "markdown",
   "metadata": {},
   "source": [
    "#### Filter Function (creates an iterator from an iterable by applying the filter)"
   ]
  },
  {
   "cell_type": "code",
   "execution_count": 32,
   "metadata": {},
   "outputs": [
    {
     "data": {
      "text/plain": [
       "[2, 4, 6, 8, 10, 14]"
      ]
     },
     "execution_count": 32,
     "metadata": {},
     "output_type": "execute_result"
    }
   ],
   "source": [
    "def even(num):\n",
    "    if num%2==0:\n",
    "        return True\n",
    "    else: \n",
    "        return False \n",
    "    \n",
    "lst=[1,2,4,5,6,7,8,9,10,11,14,13,17,21]\n",
    "\n",
    "list(filter(even, lst))"
   ]
  },
  {
   "cell_type": "code",
   "execution_count": 33,
   "metadata": {},
   "outputs": [
    {
     "data": {
      "text/plain": [
       "[6, 7, 8, 9, 10]"
      ]
     },
     "execution_count": 33,
     "metadata": {},
     "output_type": "execute_result"
    }
   ],
   "source": [
    "# filter with lambda function\n",
    "numbers=[1,2,3,4,5,6,7,8,9,10]\n",
    "list(filter(lambda x:x>5, numbers))"
   ]
  }
 ],
 "metadata": {
  "kernelspec": {
   "display_name": ".autogen",
   "language": "python",
   "name": "python3"
  },
  "language_info": {
   "codemirror_mode": {
    "name": "ipython",
    "version": 3
   },
   "file_extension": ".py",
   "mimetype": "text/x-python",
   "name": "python",
   "nbconvert_exporter": "python",
   "pygments_lexer": "ipython3",
   "version": "3.11.4"
  }
 },
 "nbformat": 4,
 "nbformat_minor": 2
}
