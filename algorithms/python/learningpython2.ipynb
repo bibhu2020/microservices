{
 "cells": [
  {
   "cell_type": "markdown",
   "metadata": {},
   "source": [
    "#### Data Structures in Python\n",
    "- List\n",
    "- Tuple\n",
    "- Sets\n",
    "- Dictionary"
   ]
  },
  {
   "cell_type": "markdown",
   "metadata": {},
   "source": [
    "##### Learning list"
   ]
  },
  {
   "cell_type": "code",
   "execution_count": 1,
   "metadata": {},
   "outputs": [
    {
     "data": {
      "text/plain": [
       "list"
      ]
     },
     "execution_count": 1,
     "metadata": {},
     "output_type": "execute_result"
    }
   ],
   "source": [
    "## list demo\n",
    "lst=[]\n",
    "type(lst)"
   ]
  },
  {
   "cell_type": "code",
   "execution_count": 19,
   "metadata": {},
   "outputs": [
    {
     "name": "stdout",
     "output_type": "stream",
     "text": [
      "['bibhu', 'mishra', 1, 4, 7]\n",
      "['mango', 'strawberrey', 'cheery']\n",
      "['banana', 'grapes', 'orange', 'mango', 'strawberrey', 'cheery', 'watermelon']\n",
      "6\n",
      "2\n",
      "['banana', 'grapes', 'orange', 'mango', 'banana', 'strawberrey', 'cheery', 'watermelon']\n",
      "['watermelon', 'cheery', 'strawberrey', 'banana', 'mango', 'orange', 'grapes', 'banana']\n"
     ]
    }
   ],
   "source": [
    "lst=[\"bibhu\", \"mishra\",1, 4, 7]\n",
    "print(lst)\n",
    "\n",
    "## accessing list items\n",
    "fruits = [\"banana\", 'grapes', \"orange\", \"mango\", \"strawberrey\", \"cheery\"]\n",
    "print(fruits[3:])\n",
    "fruits.append(\"watermelon\")\n",
    "print(fruits[0:])\n",
    "\n",
    "print(fruits.index(\"watermelon\"))\n",
    "fruits.insert(4,\"banana\")\n",
    "print(fruits.count(\"banana\"))\n",
    "print(fruits[0:])\n",
    "fruits.reverse()\n",
    "print(fruits)\n"
   ]
  },
  {
   "cell_type": "code",
   "execution_count": 23,
   "metadata": {},
   "outputs": [
    {
     "name": "stdout",
     "output_type": "stream",
     "text": [
      "[3, 4, 5]\n",
      "[1, 2, 3, 4, 5]\n",
      "[1, 3, 5, 7, 9]\n",
      "[10, 9, 8, 7, 6, 5, 4, 3, 2, 1]\n"
     ]
    }
   ],
   "source": [
    "## slicing list\n",
    "numbers=[1,2,3,4,5,6,7,8,9,10]\n",
    "print(numbers[2:5])\n",
    "print(numbers[:5])\n",
    "print(numbers[::2])\n",
    "print(numbers[::-1])"
   ]
  },
  {
   "cell_type": "code",
   "execution_count": 25,
   "metadata": {},
   "outputs": [
    {
     "name": "stdout",
     "output_type": "stream",
     "text": [
      "banana\n",
      "grapes\n",
      "orange\n",
      "mango\n",
      "strawberrey\n",
      "cheery\n",
      "0 - banana\n",
      "1 - grapes\n",
      "2 - orange\n",
      "3 - mango\n",
      "4 - strawberrey\n",
      "5 - cheery\n"
     ]
    }
   ],
   "source": [
    "fruits = [\"banana\", 'grapes', \"orange\", \"mango\", \"strawberrey\", \"cheery\"]\n",
    "## Iterating through list\n",
    "for fruit in fruits:\n",
    "    print(fruit)\n",
    "\n",
    "## another way\n",
    "for index, fruit in enumerate(fruits):\n",
    "    print(f\"{index} - {fruit}\")\n",
    "\n",
    "\n"
   ]
  },
  {
   "cell_type": "markdown",
   "metadata": {},
   "source": [
    "#### Learning Tuples (simillar to list, but immutable)\n",
    "- indexing is same as list\n",
    "- slicing is same as list"
   ]
  },
  {
   "cell_type": "code",
   "execution_count": 29,
   "metadata": {},
   "outputs": [
    {
     "name": "stdout",
     "output_type": "stream",
     "text": [
      "<class 'tuple'>\n",
      "<class 'tuple'>\n"
     ]
    }
   ],
   "source": [
    "## Creating tuple\n",
    "tup1 = ()\n",
    "print(type(tup1))\n",
    "tup2 = tuple()\n",
    "print(type(tup2))"
   ]
  },
  {
   "cell_type": "code",
   "execution_count": 38,
   "metadata": {},
   "outputs": [
    {
     "name": "stdout",
     "output_type": "stream",
     "text": [
      "3\n",
      "(1, 2, 3, 4, 5, 6, 7, 8, 9, 10, 'hellow', 1, 4, 3.14)\n",
      "(1, 2, 3, 4, 5, 6, 7, 8, 9, 10, 'hellow', 1, 4, 3.14, 1, 2, 3, 4, 5, 6, 7, 8, 9, 10, 'hellow', 1, 4, 3.14, 1, 2, 3, 4, 5, 6, 7, 8, 9, 10, 'hellow', 1, 4, 3.14)\n"
     ]
    }
   ],
   "source": [
    "lst = [1,2,3,4,5,6,7,8,9,10]\n",
    "numbers_tuple=tuple(lst) #list converted into a tuple\n",
    "\n",
    "print(numbers_tuple[2])\n",
    "\n",
    "mixed_tuple = (\"hellow\", 1, 4, 3.14)\n",
    "\n",
    "# concatenation\n",
    "concatenation_tuple=numbers_tuple + mixed_tuple\n",
    "print(concatenation_tuple)\n",
    "print(concatenation_tuple * 3)\n",
    "\n",
    "\n"
   ]
  },
  {
   "cell_type": "code",
   "execution_count": 41,
   "metadata": {},
   "outputs": [
    {
     "name": "stdout",
     "output_type": "stream",
     "text": [
      "[1, 'krish', 3, 4, 5, 6, 7, 8, 9, 10]\n"
     ]
    },
    {
     "ename": "TypeError",
     "evalue": "'tuple' object does not support item assignment",
     "output_type": "error",
     "traceback": [
      "\u001b[0;31m---------------------------------------------------------------------------\u001b[0m",
      "\u001b[0;31mTypeError\u001b[0m                                 Traceback (most recent call last)",
      "Cell \u001b[0;32mIn[41], line 9\u001b[0m\n\u001b[1;32m      6\u001b[0m lst[\u001b[38;5;241m1\u001b[39m] \u001b[38;5;241m=\u001b[39m \u001b[38;5;124m\"\u001b[39m\u001b[38;5;124mkrish\u001b[39m\u001b[38;5;124m\"\u001b[39m\n\u001b[1;32m      7\u001b[0m \u001b[38;5;28mprint\u001b[39m(lst)\n\u001b[0;32m----> 9\u001b[0m \u001b[43mnumbers_tuple\u001b[49m\u001b[43m[\u001b[49m\u001b[38;5;241;43m1\u001b[39;49m\u001b[43m]\u001b[49m \u001b[38;5;241m=\u001b[39m \u001b[38;5;124m\"\u001b[39m\u001b[38;5;124mbibhu\u001b[39m\u001b[38;5;124m\"\u001b[39m \u001b[38;5;66;03m#tuples does not allow assignment. You can't change value\u001b[39;00m\n\u001b[1;32m     10\u001b[0m \u001b[38;5;28mprint\u001b[39m(numbers_tuple)\n",
      "\u001b[0;31mTypeError\u001b[0m: 'tuple' object does not support item assignment"
     ]
    }
   ],
   "source": [
    "## Immutable nature\n",
    "lst = [1,2,3,4,5,6,7,8,9,10]\n",
    "numbers_tuple=tuple(lst) #list converted into a tuple\n",
    "mixed_tuple = (\"hellow\", 1, 4, 3.14)\n",
    "\n",
    "lst[1] = \"krish\"\n",
    "print(lst)\n",
    "\n",
    "numbers_tuple[1] = \"bibhu\" #tuples does not allow assignment. You can't change value\n",
    "print(numbers_tuple)\n"
   ]
  },
  {
   "cell_type": "code",
   "execution_count": 49,
   "metadata": {},
   "outputs": [
    {
     "name": "stdout",
     "output_type": "stream",
     "text": [
      "2\n",
      "0\n"
     ]
    }
   ],
   "source": [
    "## Tuple methods\n",
    "lst = [1,2,3,4,5,6,7,8,9,10]\n",
    "numbers_tuple=tuple(lst) #list converted into a tuple\n",
    "mixed_tuple = (\"hellow\", 1, 4, 3.14, \"hellow\")\n",
    "\n",
    "print(mixed_tuple.count(\"hellow\"))\n",
    "\n",
    "print(mixed_tuple.index(\"hellow\"))\n"
   ]
  },
  {
   "cell_type": "code",
   "execution_count": 54,
   "metadata": {},
   "outputs": [
    {
     "name": "stdout",
     "output_type": "stream",
     "text": [
      "(1, 'hellow', 9, 'morning', 'evening', 10, 5)\n",
      "1\n",
      "hellow\n",
      "9\n",
      "1\n",
      "['hellow', 9, 'morning', 'evening', 10]\n",
      "5\n"
     ]
    }
   ],
   "source": [
    "## packed tuple\n",
    "pack_tuple=1,\"hellow\",9, \"morning\", \"evening\",10, 5\n",
    "print(pack_tuple)\n",
    "\n",
    "#unpack tuple\n",
    "a,b,c,d,e,f,g=pack_tuple\n",
    "print(a)\n",
    "print(b)\n",
    "print(c)\n",
    "\n",
    "#unpacking tuple\n",
    "first,*middle,last=pack_tuple\n",
    "print(first)\n",
    "print(middle)\n",
    "print(last)\n"
   ]
  },
  {
   "cell_type": "code",
   "execution_count": 91,
   "metadata": {},
   "outputs": [
    {
     "name": "stdout",
     "output_type": "stream",
     "text": [
      "0 - banana\n",
      "1 - grapes\n",
      "2 - orange\n",
      "3 - mango\n",
      "4 - strawberrey\n",
      "5 - cheery\n"
     ]
    }
   ],
   "source": [
    "# Iterating\n",
    "fruits = (\"banana\", 'grapes', \"orange\", \"mango\", \"strawberrey\", \"cheery\")\n",
    "\n",
    "for index, fruit in enumerate(fruits):\n",
    "    print(f\"{index} - {fruit}\")"
   ]
  },
  {
   "cell_type": "markdown",
   "metadata": {},
   "source": [
    "##### Dictionary Data Structure (key-value pair. key must be unique and immutable)"
   ]
  },
  {
   "cell_type": "code",
   "execution_count": 60,
   "metadata": {},
   "outputs": [
    {
     "name": "stdout",
     "output_type": "stream",
     "text": [
      "<class 'dict'>\n",
      "{'name': 'krish', 'age': 34, 'height': 5.11}\n"
     ]
    }
   ],
   "source": [
    "## Create an Empty Dictionary\n",
    "empty_dict1 = {}\n",
    "print (type(empty_dict1))\n",
    "\n",
    "empty_dict2 = {\"name\": \"krish\", \"age\": 34, \"height\": 5.11}\n",
    "print(empty_dict2)"
   ]
  },
  {
   "cell_type": "code",
   "execution_count": 63,
   "metadata": {},
   "outputs": [
    {
     "name": "stdout",
     "output_type": "stream",
     "text": [
      "{'name': 5.11, 'age': 34}\n"
     ]
    }
   ],
   "source": [
    "# Observation (key overwritten) - key should be unique\n",
    "student = {\"name\": \"krish\", \"age\": 34, \"name\": 5.11}\n",
    "print(student)"
   ]
  },
  {
   "cell_type": "code",
   "execution_count": 71,
   "metadata": {},
   "outputs": [
    {
     "name": "stdout",
     "output_type": "stream",
     "text": [
      "5.11\n",
      "krish\n",
      "34\n",
      "Not Available\n"
     ]
    }
   ],
   "source": [
    "# accessing dictionary element\n",
    "student = {\"name\": \"krish\", \"age\": 34, \"height\": 5.11}\n",
    "print(student[\"height\"])\n",
    "print(student[\"name\"])\n",
    "\n",
    "# another way\n",
    "print(student.get(\"age\"))\n",
    "print(student.get(\"grade\", \"Not Available\"))"
   ]
  },
  {
   "cell_type": "code",
   "execution_count": 76,
   "metadata": {},
   "outputs": [
    {
     "name": "stdout",
     "output_type": "stream",
     "text": [
      "{'name': 'krish', 'age': 34, 'height': 5.11}\n",
      "{'name': 'Bibhu', 'age': 34, 'height': 5.11, 'grade': 'A'}\n",
      "{'name': 'Bibhu', 'height': 5.11, 'grade': 'A'}\n"
     ]
    }
   ],
   "source": [
    "# Modifying dictionary elements\n",
    "student = {\"name\": \"krish\", \"age\": 34, \"height\": 5.11}\n",
    "print(student)\n",
    "student[\"name\"] = \"Bibhu\"\n",
    "student[\"grade\"] = \"A\" #added a new key\n",
    "print(student)\n",
    "\n",
    "# Delete dictionaty element\n",
    "del student[\"age\"]\n",
    "print(student)\n"
   ]
  },
  {
   "cell_type": "code",
   "execution_count": 80,
   "metadata": {},
   "outputs": [
    {
     "name": "stdout",
     "output_type": "stream",
     "text": [
      "dict_keys(['name', 'age', 'height'])\n",
      "dict_values(['krish', 34, 5.11])\n",
      "dict_items([('name', 'krish'), ('age', 34), ('height', 5.11)])\n"
     ]
    }
   ],
   "source": [
    "## Dictionary methods\n",
    "student = {\"name\": \"krish\", \"age\": 34, \"height\": 5.11}\n",
    "keys=student.keys()\n",
    "print(keys)\n",
    "values=student.values()\n",
    "print(values)\n",
    "\n",
    "items=student.items()\n",
    "print(items)\n",
    "\n",
    "\n"
   ]
  },
  {
   "cell_type": "code",
   "execution_count": 83,
   "metadata": {},
   "outputs": [
    {
     "name": "stdout",
     "output_type": "stream",
     "text": [
      "{'name': 'krish', 'age': 34, 'height': 5.11}\n",
      "{'name': 'krish', 'age': 34, 'height': 5.11}\n",
      "{'name': 'bibhu', 'age': 34, 'height': 5.11}\n",
      "{'name': 'bibhu', 'age': 34, 'height': 5.11}\n"
     ]
    }
   ],
   "source": [
    "## reference copy\n",
    "student = {\"name\": \"krish\", \"age\": 34, \"height\": 5.11}\n",
    "student_copy = student\n",
    "print(student)\n",
    "print(student_copy)\n",
    "\n",
    "student[\"name\"] = \"bibhu\"\n",
    "print(student)\n",
    "print(student_copy)"
   ]
  },
  {
   "cell_type": "code",
   "execution_count": 84,
   "metadata": {},
   "outputs": [
    {
     "name": "stdout",
     "output_type": "stream",
     "text": [
      "{'name': 'bibhu', 'age': 34, 'height': 5.11}\n",
      "{'name': 'krish', 'age': 34, 'height': 5.11}\n"
     ]
    }
   ],
   "source": [
    "## shallow copy or memory copy\n",
    "student = {\"name\": \"krish\", \"age\": 34, \"height\": 5.11}\n",
    "student_copy = student.copy()\n",
    "\n",
    "student[\"name\"] = \"bibhu\"\n",
    "print(student)\n",
    "print(student_copy)\n",
    "\n"
   ]
  },
  {
   "cell_type": "code",
   "execution_count": 90,
   "metadata": {},
   "outputs": [
    {
     "name": "stdout",
     "output_type": "stream",
     "text": [
      "name - krish\n",
      "age - 34\n",
      "height - 5.11\n"
     ]
    }
   ],
   "source": [
    "## Iterating over Dictionary\n",
    "student = {\"name\": \"krish\", \"age\": 34, \"height\": 5.11}\n",
    "for key, value in student.items():\n",
    "    print(f\"{key} - {value}\")"
   ]
  },
  {
   "cell_type": "code",
   "execution_count": 96,
   "metadata": {},
   "outputs": [
    {
     "name": "stdout",
     "output_type": "stream",
     "text": [
      "krish\n",
      "student1 - {'name': 'krish', 'age': 34, 'height': 5.11}\n",
      "name - krish\n",
      "age - 34\n",
      "height - 5.11\n",
      "student2 - {'name': 'bibhu', 'age': 43, 'height': 5.4}\n",
      "name - bibhu\n",
      "age - 43\n",
      "height - 5.4\n",
      "student3 - {'name': 'crish', 'age': 26, 'height': 5.8}\n",
      "name - crish\n",
      "age - 26\n",
      "height - 5.8\n"
     ]
    }
   ],
   "source": [
    "## nested dictionary\n",
    "students = {\n",
    "    \"student1\": {\"name\": \"krish\", \"age\": 34, \"height\": 5.11},\n",
    "    \"student2\": {\"name\": \"bibhu\", \"age\": 43, \"height\": 5.4},\n",
    "    \"student3\": {\"name\": \"crish\", \"age\": 26, \"height\": 5.8},\n",
    "}\n",
    "print(students[\"student1\"][\"name\"])\n",
    "\n",
    "for student_id, student_info in students.items():\n",
    "    print(f\"{student_id} - {student_info}\")\n",
    "    for key, value in student_info.items():\n",
    "       print(f\"{key} - {value}\") "
   ]
  },
  {
   "cell_type": "code",
   "execution_count": null,
   "metadata": {},
   "outputs": [],
   "source": []
  }
 ],
 "metadata": {
  "kernelspec": {
   "display_name": ".autogen",
   "language": "python",
   "name": "python3"
  },
  "language_info": {
   "codemirror_mode": {
    "name": "ipython",
    "version": 3
   },
   "file_extension": ".py",
   "mimetype": "text/x-python",
   "name": "python",
   "nbconvert_exporter": "python",
   "pygments_lexer": "ipython3",
   "version": "3.11.4"
  }
 },
 "nbformat": 4,
 "nbformat_minor": 2
}
